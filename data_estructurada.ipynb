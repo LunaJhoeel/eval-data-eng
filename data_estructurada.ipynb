{
 "cells": [
  {
   "cell_type": "markdown",
   "metadata": {},
   "source": [
    "## Evaluacion Data Engineer"
   ]
  },
  {
   "cell_type": "markdown",
   "metadata": {},
   "source": [
    "### EDA"
   ]
  },
  {
   "cell_type": "code",
   "execution_count": 1,
   "metadata": {},
   "outputs": [],
   "source": [
    "import pandas as pd"
   ]
  },
  {
   "cell_type": "code",
   "execution_count": 2,
   "metadata": {},
   "outputs": [
    {
     "data": {
      "text/html": [
       "<div>\n",
       "<style scoped>\n",
       "    .dataframe tbody tr th:only-of-type {\n",
       "        vertical-align: middle;\n",
       "    }\n",
       "\n",
       "    .dataframe tbody tr th {\n",
       "        vertical-align: top;\n",
       "    }\n",
       "\n",
       "    .dataframe thead th {\n",
       "        text-align: right;\n",
       "    }\n",
       "</style>\n",
       "<table border=\"1\" class=\"dataframe\">\n",
       "  <thead>\n",
       "    <tr style=\"text-align: right;\">\n",
       "      <th></th>\n",
       "      <th>id_paciente</th>\n",
       "      <th>raza_paciente</th>\n",
       "      <th>tipo_pagador</th>\n",
       "      <th>estado_paciente</th>\n",
       "      <th>codigo_postal_paciente</th>\n",
       "      <th>edad_paciente</th>\n",
       "      <th>genero_paciente</th>\n",
       "      <th>imc</th>\n",
       "      <th>codigo_diagnostico</th>\n",
       "      <th>descripcion_diagnostico</th>\n",
       "      <th>...</th>\n",
       "      <th>discapacitados</th>\n",
       "      <th>pobreza</th>\n",
       "      <th>ingles_limitado</th>\n",
       "      <th>tiempo_commute</th>\n",
       "      <th>sin_seguro_medico</th>\n",
       "      <th>veteranos</th>\n",
       "      <th>ozono</th>\n",
       "      <th>pm25</th>\n",
       "      <th>no2</th>\n",
       "      <th>diagnostico_reciente</th>\n",
       "    </tr>\n",
       "  </thead>\n",
       "  <tbody>\n",
       "    <tr>\n",
       "      <th>0</th>\n",
       "      <td>475714</td>\n",
       "      <td>NaN</td>\n",
       "      <td>MEDICAID</td>\n",
       "      <td>CA</td>\n",
       "      <td>924</td>\n",
       "      <td>84</td>\n",
       "      <td>F</td>\n",
       "      <td>NaN</td>\n",
       "      <td>C50919</td>\n",
       "      <td>Malignant neoplasm of unsp site of unspecified...</td>\n",
       "      <td>...</td>\n",
       "      <td>12.871429</td>\n",
       "      <td>22.542857</td>\n",
       "      <td>10.100000</td>\n",
       "      <td>27.814286</td>\n",
       "      <td>11.200000</td>\n",
       "      <td>3.500000</td>\n",
       "      <td>52.237210</td>\n",
       "      <td>8.650555</td>\n",
       "      <td>18.606528</td>\n",
       "      <td>1</td>\n",
       "    </tr>\n",
       "    <tr>\n",
       "      <th>1</th>\n",
       "      <td>349367</td>\n",
       "      <td>White</td>\n",
       "      <td>COMMERCIAL</td>\n",
       "      <td>CA</td>\n",
       "      <td>928</td>\n",
       "      <td>62</td>\n",
       "      <td>F</td>\n",
       "      <td>28.49</td>\n",
       "      <td>C50411</td>\n",
       "      <td>Malig neoplm of upper-outer quadrant of right ...</td>\n",
       "      <td>...</td>\n",
       "      <td>8.957576</td>\n",
       "      <td>10.109091</td>\n",
       "      <td>8.057576</td>\n",
       "      <td>30.606061</td>\n",
       "      <td>7.018182</td>\n",
       "      <td>4.103030</td>\n",
       "      <td>42.301121</td>\n",
       "      <td>8.487175</td>\n",
       "      <td>20.113179</td>\n",
       "      <td>1</td>\n",
       "    </tr>\n",
       "    <tr>\n",
       "      <th>2</th>\n",
       "      <td>138632</td>\n",
       "      <td>White</td>\n",
       "      <td>COMMERCIAL</td>\n",
       "      <td>TX</td>\n",
       "      <td>760</td>\n",
       "      <td>43</td>\n",
       "      <td>F</td>\n",
       "      <td>38.09</td>\n",
       "      <td>C50112</td>\n",
       "      <td>Malignant neoplasm of central portion of left ...</td>\n",
       "      <td>...</td>\n",
       "      <td>11.253333</td>\n",
       "      <td>9.663333</td>\n",
       "      <td>3.356667</td>\n",
       "      <td>31.394915</td>\n",
       "      <td>15.066667</td>\n",
       "      <td>7.446667</td>\n",
       "      <td>40.108207</td>\n",
       "      <td>7.642753</td>\n",
       "      <td>14.839351</td>\n",
       "      <td>1</td>\n",
       "    </tr>\n",
       "    <tr>\n",
       "      <th>3</th>\n",
       "      <td>617843</td>\n",
       "      <td>White</td>\n",
       "      <td>COMMERCIAL</td>\n",
       "      <td>CA</td>\n",
       "      <td>926</td>\n",
       "      <td>45</td>\n",
       "      <td>F</td>\n",
       "      <td>NaN</td>\n",
       "      <td>C50212</td>\n",
       "      <td>Malig neoplasm of upper-inner quadrant of left...</td>\n",
       "      <td>...</td>\n",
       "      <td>8.845238</td>\n",
       "      <td>8.688095</td>\n",
       "      <td>5.280952</td>\n",
       "      <td>27.561905</td>\n",
       "      <td>4.404762</td>\n",
       "      <td>4.809524</td>\n",
       "      <td>42.070075</td>\n",
       "      <td>7.229393</td>\n",
       "      <td>15.894123</td>\n",
       "      <td>0</td>\n",
       "    </tr>\n",
       "    <tr>\n",
       "      <th>4</th>\n",
       "      <td>817482</td>\n",
       "      <td>NaN</td>\n",
       "      <td>COMMERCIAL</td>\n",
       "      <td>ID</td>\n",
       "      <td>836</td>\n",
       "      <td>55</td>\n",
       "      <td>F</td>\n",
       "      <td>NaN</td>\n",
       "      <td>1749</td>\n",
       "      <td>Malignant neoplasm of breast (female), unspeci...</td>\n",
       "      <td>...</td>\n",
       "      <td>15.276000</td>\n",
       "      <td>11.224000</td>\n",
       "      <td>1.946000</td>\n",
       "      <td>26.170213</td>\n",
       "      <td>12.088000</td>\n",
       "      <td>13.106000</td>\n",
       "      <td>41.356058</td>\n",
       "      <td>4.110749</td>\n",
       "      <td>11.722197</td>\n",
       "      <td>0</td>\n",
       "    </tr>\n",
       "  </tbody>\n",
       "</table>\n",
       "<p>5 rows × 83 columns</p>\n",
       "</div>"
      ],
      "text/plain": [
       "   id_paciente raza_paciente tipo_pagador estado_paciente  \\\n",
       "0       475714           NaN     MEDICAID              CA   \n",
       "1       349367         White   COMMERCIAL              CA   \n",
       "2       138632         White   COMMERCIAL              TX   \n",
       "3       617843         White   COMMERCIAL              CA   \n",
       "4       817482           NaN   COMMERCIAL              ID   \n",
       "\n",
       "   codigo_postal_paciente  edad_paciente genero_paciente    imc  \\\n",
       "0                     924             84               F    NaN   \n",
       "1                     928             62               F  28.49   \n",
       "2                     760             43               F  38.09   \n",
       "3                     926             45               F    NaN   \n",
       "4                     836             55               F    NaN   \n",
       "\n",
       "  codigo_diagnostico                            descripcion_diagnostico  ...  \\\n",
       "0             C50919  Malignant neoplasm of unsp site of unspecified...  ...   \n",
       "1             C50411  Malig neoplm of upper-outer quadrant of right ...  ...   \n",
       "2             C50112  Malignant neoplasm of central portion of left ...  ...   \n",
       "3             C50212  Malig neoplasm of upper-inner quadrant of left...  ...   \n",
       "4               1749  Malignant neoplasm of breast (female), unspeci...  ...   \n",
       "\n",
       "  discapacitados    pobreza ingles_limitado tiempo_commute sin_seguro_medico  \\\n",
       "0      12.871429  22.542857       10.100000      27.814286         11.200000   \n",
       "1       8.957576  10.109091        8.057576      30.606061          7.018182   \n",
       "2      11.253333   9.663333        3.356667      31.394915         15.066667   \n",
       "3       8.845238   8.688095        5.280952      27.561905          4.404762   \n",
       "4      15.276000  11.224000        1.946000      26.170213         12.088000   \n",
       "\n",
       "   veteranos      ozono      pm25        no2  diagnostico_reciente  \n",
       "0   3.500000  52.237210  8.650555  18.606528                     1  \n",
       "1   4.103030  42.301121  8.487175  20.113179                     1  \n",
       "2   7.446667  40.108207  7.642753  14.839351                     1  \n",
       "3   4.809524  42.070075  7.229393  15.894123                     0  \n",
       "4  13.106000  41.356058  4.110749  11.722197                     0  \n",
       "\n",
       "[5 rows x 83 columns]"
      ]
     },
     "execution_count": 2,
     "metadata": {},
     "output_type": "execute_result"
    }
   ],
   "source": [
    "# carga la data\n",
    "file_path = 'data/raw/Data Engineer training (2).csv'\n",
    "data = pd.read_csv(file_path)\n",
    "# revisa las primeras filas\n",
    "data.head()"
   ]
  },
  {
   "cell_type": "code",
   "execution_count": 3,
   "metadata": {},
   "outputs": [
    {
     "name": "stdout",
     "output_type": "stream",
     "text": [
      "<class 'pandas.core.frame.DataFrame'>\n",
      "RangeIndex: 12906 entries, 0 to 12905\n",
      "Data columns (total 83 columns):\n",
      " #   Column                               Non-Null Count  Dtype  \n",
      "---  ------                               --------------  -----  \n",
      " 0   id_paciente                          12906 non-null  int64  \n",
      " 1   raza_paciente                        6521 non-null   object \n",
      " 2   tipo_pagador                         11103 non-null  object \n",
      " 3   estado_paciente                      12855 non-null  object \n",
      " 4   codigo_postal_paciente               12906 non-null  int64  \n",
      " 5   edad_paciente                        12906 non-null  int64  \n",
      " 6   genero_paciente                      12906 non-null  object \n",
      " 7   imc                                  3941 non-null   float64\n",
      " 8   codigo_diagnostico                   12906 non-null  object \n",
      " 9   descripcion_diagnostico              12906 non-null  object \n",
      " 10  codigo_diagnostico_metastatico       12906 non-null  object \n",
      " 11  primer_tratamiento_metastatico       24 non-null     object \n",
      " 12  tipo_primer_tratamiento_metastatico  24 non-null     object \n",
      " 13  region                               12854 non-null  object \n",
      " 14  division                             12854 non-null  object \n",
      " 15  poblacion                            12905 non-null  float64\n",
      " 16  densidad                             12905 non-null  float64\n",
      " 17  edad_mediana                         12905 non-null  float64\n",
      " 18  edad_menores_10                      12905 non-null  float64\n",
      " 19  edad_10_19                           12905 non-null  float64\n",
      " 20  edad_20s                             12905 non-null  float64\n",
      " 21  edad_30s                             12905 non-null  float64\n",
      " 22  edad_40s                             12905 non-null  float64\n",
      " 23  edad_50s                             12905 non-null  float64\n",
      " 24  edad_60s                             12905 non-null  float64\n",
      " 25  edad_70s                             12905 non-null  float64\n",
      " 26  edad_mayores_80                      12905 non-null  float64\n",
      " 27  hombres                              12905 non-null  float64\n",
      " 28  mujeres                              12905 non-null  float64\n",
      " 29  casados                              12905 non-null  float64\n",
      " 30  divorciados                          12905 non-null  float64\n",
      " 31  nunca_casados                        12905 non-null  float64\n",
      " 32  viudos                               12905 non-null  float64\n",
      " 33  tamano_familia                       12902 non-null  float64\n",
      " 34  familia_doble_ingreso                12902 non-null  float64\n",
      " 35  ingreso_hogar_mediana                12902 non-null  float64\n",
      " 36  ingreso_hogar_menos_5                12902 non-null  float64\n",
      " 37  ingreso_hogar_5_10                   12902 non-null  float64\n",
      " 38  ingreso_hogar_10_15                  12902 non-null  float64\n",
      " 39  ingreso_hogar_15_20                  12902 non-null  float64\n",
      " 40  ingreso_hogar_20_25                  12902 non-null  float64\n",
      " 41  ingreso_hogar_25_35                  12902 non-null  float64\n",
      " 42  ingreso_hogar_35_50                  12902 non-null  float64\n",
      " 43  ingreso_hogar_50_75                  12902 non-null  float64\n",
      " 44  ingreso_hogar_75_100                 12902 non-null  float64\n",
      " 45  ingreso_hogar_100_150                12902 non-null  float64\n",
      " 46  ingreso_hogar_mas_150                12902 non-null  float64\n",
      " 47  ingreso_hogar_seis_cifras            12902 non-null  float64\n",
      " 48  ingreso_individual_mediana           12905 non-null  float64\n",
      " 49  propiedad_vivienda                   12902 non-null  float64\n",
      " 50  unidades_vivienda                    12905 non-null  float64\n",
      " 51  valor_vivienda                       12902 non-null  float64\n",
      " 52  renta_mediana                        12902 non-null  float64\n",
      " 53  carga_renta                          12902 non-null  float64\n",
      " 54  educacion_menos_bachillerato         12905 non-null  float64\n",
      " 55  educacion_bachillerato               12905 non-null  float64\n",
      " 56  educacion_algo_universidad           12905 non-null  float64\n",
      " 57  educacion_licenciatura               12905 non-null  float64\n",
      " 58  educacion_posgrado                   12905 non-null  float64\n",
      " 59  educacion_universidad_o_mas          12905 non-null  float64\n",
      " 60  educacion_grado_stem                 12905 non-null  float64\n",
      " 61  participacion_fuerza_laboral         12905 non-null  float64\n",
      " 62  tasa_desempleo                       12905 non-null  float64\n",
      " 63  trabajo_independiente                12902 non-null  float64\n",
      " 64  agricultores                         12902 non-null  float64\n",
      " 65  raza_blanca                          12905 non-null  float64\n",
      " 66  raza_negra                           12905 non-null  float64\n",
      " 67  raza_asiatica                        12905 non-null  float64\n",
      " 68  raza_nativa                          12905 non-null  float64\n",
      " 69  raza_islas_pacifico                  12905 non-null  float64\n",
      " 70  otra_raza                            12905 non-null  float64\n",
      " 71  raza_multiple                        12905 non-null  float64\n",
      " 72  hispanos                             12905 non-null  float64\n",
      " 73  discapacitados                       12905 non-null  float64\n",
      " 74  pobreza                              12902 non-null  float64\n",
      " 75  ingles_limitado                      12902 non-null  float64\n",
      " 76  tiempo_commute                       12905 non-null  float64\n",
      " 77  sin_seguro_medico                    12905 non-null  float64\n",
      " 78  veteranos                            12905 non-null  float64\n",
      " 79  ozono                                12877 non-null  float64\n",
      " 80  pm25                                 12877 non-null  float64\n",
      " 81  no2                                  12877 non-null  float64\n",
      " 82  diagnostico_reciente                 12906 non-null  int64  \n",
      "dtypes: float64(68), int64(4), object(11)\n",
      "memory usage: 8.2+ MB\n"
     ]
    }
   ],
   "source": [
    "# obtiene un resumen de la data\n",
    "data.info()"
   ]
  },
  {
   "cell_type": "markdown",
   "metadata": {},
   "source": [
    "De lo anterior, se puede observar que existe una gran cantidad de valores nulos en distintas columnas."
   ]
  },
  {
   "cell_type": "markdown",
   "metadata": {},
   "source": [
    "### Pregunta 1: Calcula la edad promedio de los pacientes en cada estado y ordena los resultados de mayor a menor."
   ]
  },
  {
   "cell_type": "code",
   "execution_count": 4,
   "metadata": {},
   "outputs": [
    {
     "name": "stdout",
     "output_type": "stream",
     "text": [
      "Edad promedio de los pacientes en cada estado ordenado de mayor a menor\n"
     ]
    },
    {
     "data": {
      "text/plain": [
       "estado_paciente\n",
       "CT    70.500000\n",
       "PR    68.000000\n",
       "MN    65.445623\n",
       "OR    64.797753\n",
       "MI    62.839161\n",
       "OH    61.454907\n",
       "MS    61.302632\n",
       "KS    61.280000\n",
       "NY    61.265130\n",
       "PA    61.231884\n",
       "Name: edad_paciente, dtype: float64"
      ]
     },
     "execution_count": 4,
     "metadata": {},
     "output_type": "execute_result"
    }
   ],
   "source": [
    "# agrupa los datos por estado y calcula la media de edad\n",
    "edad_promedio_estado = data.groupby('estado_paciente')['edad_paciente'].mean()\n",
    "# ordenar los valores de mayor a menor\n",
    "edad_promedio_estado_sorted = edad_promedio_estado.sort_values(ascending=False)\n",
    "# muestra los primeros 10 resultados\n",
    "print(\"Edad promedio de los pacientes en cada estado ordenado de mayor a menor\")\n",
    "edad_promedio_estado_sorted.head(10)"
   ]
  },
  {
   "cell_type": "markdown",
   "metadata": {},
   "source": [
    "### Pregunta 2: Encuentra el código de diagnóstico de cáncer más común en el conjunto de datos y cuenta la cantidad de pacientes con ese código."
   ]
  },
  {
   "cell_type": "code",
   "execution_count": 5,
   "metadata": {},
   "outputs": [
    {
     "name": "stdout",
     "output_type": "stream",
     "text": [
      "El código de diagnóstico de cáncer más común es: 1749\n",
      "La cantidad de pacientes con ese código es: 1982\n"
     ]
    }
   ],
   "source": [
    "# identifica el codigo de diagnostico mas comun\n",
    "codigo_mas_comun = data['codigo_diagnostico'].mode()[0]\n",
    "# cuenta la cantidad de pacientes con ese codigo\n",
    "cantidad_pacientes = data[data['codigo_diagnostico'] == codigo_mas_comun].shape[0]\n",
    "# muestra resultados\n",
    "print(f\"El código de diagnóstico de cáncer más común es: {codigo_mas_comun}\")\n",
    "print(f\"La cantidad de pacientes con ese código es: {cantidad_pacientes}\")"
   ]
  },
  {
   "cell_type": "markdown",
   "metadata": {},
   "source": [
    "### Pregunta 3: Crea una nueva columna que indique si el paciente tiene un índice de masa corporal (BMI) dentro del rango saludable (18.5 - 24.9) o no. Luego, calcula el porcentaje de pacientes con un BMI saludable."
   ]
  },
  {
   "cell_type": "code",
   "execution_count": 6,
   "metadata": {},
   "outputs": [
    {
     "name": "stdout",
     "output_type": "stream",
     "text": [
      "Porcentaje de pacientes con BMI saludable: 7.76%\n"
     ]
    }
   ],
   "source": [
    "# crear nueva columna 'bmi_saludable'\n",
    "data['bmi_saludable'] = data['imc'].between(18.5, 24.9, inclusive='both')\n",
    "# calcular el porcentaje\n",
    "porcentaje_bmi_saludable = (data['bmi_saludable'].mean()) * 100\n",
    "print(f\"Porcentaje de pacientes con BMI saludable: {porcentaje_bmi_saludable:.2f}%\")"
   ]
  },
  {
   "cell_type": "markdown",
   "metadata": {},
   "source": [
    "### Pregunta 4: Agrupa los pacientes por tipo de pagador (tipo_pagador) y calcula la mediana de los ingresos individuales (ingreso_individual_mediana) para cada grupo."
   ]
  },
  {
   "cell_type": "code",
   "execution_count": 8,
   "metadata": {},
   "outputs": [
    {
     "name": "stdout",
     "output_type": "stream",
     "text": [
      "La mediana de los ingresos individuales para cada grupo es: \n",
      "tipo_pagador\n",
      "COMMERCIAL            35857.11\n",
      "MEDICAID              34029.64\n",
      "MEDICARE ADVANTAGE    34678.62\n",
      "Name: ingreso_individual_mediana, dtype: float64\n"
     ]
    }
   ],
   "source": [
    "# agrupar los datos por 'tipo_pagador' y calcula la mediana de 'ingreso_individual_mediana' para cada grupo\n",
    "mediana_ingresos_por_tipo_pagador = data.groupby('tipo_pagador')['ingreso_individual_mediana'].median().round(2)\n",
    "# mostrar resultados\n",
    "print(f\"La mediana de los ingresos individuales para cada grupo es: \\n{mediana_ingresos_por_tipo_pagador}\")"
   ]
  },
  {
   "cell_type": "markdown",
   "metadata": {},
   "source": [
    "### Pregunta 5: Identifica los códigos postales de 3 dígitos (codigo_postal_paciente) con la mayor densidad de población (densidad) y muestra el top 5 ordenado de mayor a menor densidad."
   ]
  },
  {
   "cell_type": "code",
   "execution_count": 7,
   "metadata": {},
   "outputs": [
    {
     "name": "stdout",
     "output_type": "stream",
     "text": [
      "Los códigos postales de 3 dígitos con la mayor densidad es: \n",
      "codigo_postal_3\n",
      "111    21172.00\n",
      "112    17326.41\n",
      "104    16936.58\n",
      "113     9949.13\n",
      "114     8664.12\n",
      "Name: densidad, dtype: float64\n"
     ]
    }
   ],
   "source": [
    "# extraer los primeros tres dígitos del código postal\n",
    "data['codigo_postal_3'] = data['codigo_postal_paciente'].astype(str).str[:3]\n",
    "# agrupa por código postal de 3 dígitos y calcula la densidad media\n",
    "densidad_por_codigo_postal = data.groupby('codigo_postal_3')['densidad'].mean()\n",
    "# ordena los resultados y muestra top 5\n",
    "top_5_densidades = densidad_por_codigo_postal.sort_values(ascending=False).head(5).round(2)\n",
    "# resultados\n",
    "print(f\"Los códigos postales de 3 dígitos con la mayor densidad es: \\n{top_5_densidades}\")"
   ]
  }
 ],
 "metadata": {
  "kernelspec": {
   "display_name": "Python 3 (ipykernel)",
   "language": "python",
   "name": "python3"
  },
  "language_info": {
   "codemirror_mode": {
    "name": "ipython",
    "version": 3
   },
   "file_extension": ".py",
   "mimetype": "text/x-python",
   "name": "python",
   "nbconvert_exporter": "python",
   "pygments_lexer": "ipython3",
   "version": "3.9.19"
  }
 },
 "nbformat": 4,
 "nbformat_minor": 2
}
